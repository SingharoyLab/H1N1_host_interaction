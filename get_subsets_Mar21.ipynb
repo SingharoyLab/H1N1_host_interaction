{
 "cells": [
  {
   "cell_type": "code",
   "execution_count": 1,
   "metadata": {},
   "outputs": [],
   "source": [
    "from glycan import glycan\n",
    "import numpy as np\n",
    "import pandas as pd\n",
    "\n",
    "from sklearn import svm\n",
    "from sklearn.metrics import roc_auc_score, accuracy_score, precision_score, recall_score, f1_score\n",
    "from sklearn.metrics import confusion_matrix\n",
    "\n",
    "import matplotlib.pyplot as plt"
   ]
  },
  {
   "cell_type": "code",
   "execution_count": 2,
   "metadata": {},
   "outputs": [
    {
     "name": "stdout",
     "output_type": "stream",
     "text": [
      "For now, we are skipping the header\n",
      "For now, we are skipping the header\n",
      "For now, we are skipping the header\n",
      "For now, we are skipping the header\n",
      "For now, we are skipping the header\n",
      "For now, we are skipping the header\n",
      "For now, we are skipping the header\n",
      "For now, we are skipping the header\n",
      "For now, we are skipping the header\n",
      "For now, we are skipping the header\n"
     ]
    },
    {
     "name": "stderr",
     "output_type": "stream",
     "text": [
      "/Users/chitrakgupta/Desktop/ASU_projects/GlycanModification/Data_Mar2020/find_examples/Results_Mar2021/glycan/_read.py:162: SettingWithCopyWarning:\n",
      "\n",
      "\n",
      "A value is trying to be set on a copy of a slice from a DataFrame.\n",
      "Try using .loc[row_indexer,col_indexer] = value instead\n",
      "\n",
      "See the caveats in the documentation: https://pandas.pydata.org/pandas-docs/stable/user_guide/indexing.html#returning-a-view-versus-a-copy\n",
      "\n"
     ]
    },
    {
     "name": "stdout",
     "output_type": "stream",
     "text": [
      "For now, we are skipping the header\n",
      "For now, we are skipping the header\n",
      "For now, we are skipping the header\n",
      "For now, we are skipping the header\n",
      "For now, we are skipping the header\n",
      "For now, we are skipping the header\n",
      "For now, we are skipping the header\n",
      "For now, we are skipping the header\n",
      "For now, we are skipping the header\n",
      "For now, we are skipping the header\n",
      "For now, we are skipping the header\n",
      "For now, we are skipping the header\n",
      "For now, we are skipping the header\n",
      "For now, we are skipping the header\n",
      "For now, we are skipping the header\n",
      "For now, we are skipping the header\n",
      "For now, we are skipping the header\n",
      "For now, we are skipping the header\n",
      "For now, we are skipping the header\n",
      "For now, we are skipping the header\n",
      "For now, we are skipping the header\n"
     ]
    },
    {
     "name": "stderr",
     "output_type": "stream",
     "text": [
      "/Users/chitrakgupta/anaconda3/lib/python3.7/site-packages/ipykernel_launcher.py:23: SettingWithCopyWarning:\n",
      "\n",
      "\n",
      "A value is trying to be set on a copy of a slice from a DataFrame.\n",
      "Try using .loc[row_indexer,col_indexer] = value instead\n",
      "\n",
      "See the caveats in the documentation: https://pandas.pydata.org/pandas-docs/stable/user_guide/indexing.html#returning-a-view-versus-a-copy\n",
      "\n"
     ]
    }
   ],
   "source": [
    "g = glycan()\n",
    "numberedExcel1 = g.getData('../../old_sheet1.csv', wh='old', totalTabs=3)\n",
    "numberedExcel2 = g.getData('../../old_sheet2.csv', wh='old', totalTabs=4)\n",
    "numberedExcel3 = g.getData('../../old_sheet3.csv', wh='old', totalTabs=4)\n",
    "numberedExcel4 = g.getData('../../new_sheet1.csv', totalTabs=2)\n",
    "numberedExcel5 = g.getData('../../new_sheet2.csv', totalTabs=2)\n",
    "numberedExcel6 = g.getData('../../new_sheet3.csv', totalTabs=2)\n",
    "numberedExcel7 = g.getData('../../new_sheet4.csv', totalTabs=4)\n",
    "numberedExcel8 = g.getData('../../new_sheet5.csv', totalTabs=4)\n",
    "numberedExcel9 = g.getData('../../new_sheet6.csv', totalTabs=4)\n",
    "\n",
    "# This file has 2 tabs, but we only read one. The second tab has been updated into a different file\n",
    "#numberedExcel10 = g.getData('../Results_Feb2021/egg_virus_dilutions.csv', totalTabs=1)\n",
    "numberedExcel10 = g.getData('./egg_virus_dilutions_secondTab_updated.csv', totalTabs=2)\n",
    "\n",
    "numberedExcel_temp = pd.concat([numberedExcel1, numberedExcel2, numberedExcel3, numberedExcel4, numberedExcel5, numberedExcel6, numberedExcel7, numberedExcel8, numberedExcel9, numberedExcel10], axis=0)\n",
    "#numberedExcel_temp = pd.concat([numberedExcel1, numberedExcel2, numberedExcel3, numberedExcel4, numberedExcel7, numberedExcel8, numberedExcel9, numberedExcel10], axis=0)\n",
    "\n",
    "# Removing the blocks that were hand-picked by Taryn\n",
    "egg = numberedExcel_temp[~((numberedExcel_temp.SubArr == 23) | (numberedExcel_temp.SubArr == 25) | (numberedExcel_temp.SubArr == 26))]\n",
    "\n",
    "egg.reset_index(drop=True, inplace=True)\n",
    "egg['MVF'] = egg.MVF/egg.GlycDen"
   ]
  },
  {
   "cell_type": "code",
   "execution_count": 3,
   "metadata": {},
   "outputs": [
    {
     "data": {
      "text/plain": [
       "(8373, 11)"
      ]
     },
     "execution_count": 3,
     "metadata": {},
     "output_type": "execute_result"
    }
   ],
   "source": [
    "egg.shape"
   ]
  },
  {
   "cell_type": "code",
   "execution_count": 4,
   "metadata": {},
   "outputs": [],
   "source": [
    "def getResults(X_train, Y_train, X_test, Y_test, preds_train, preds_test): \n",
    "    X_train_2 = X_train.copy()\n",
    "    X_test_2 = X_test.copy()\n",
    "    \n",
    "    X_train_2['Label'] = Y_train\n",
    "    X_train_2['Pred'] = preds_train\n",
    "    X_train_2['Correct'] = X_train_2.Label == X_train_2.Pred\n",
    "    X_train_2['Correct_2'] = X_train_2['Correct']\n",
    "    X_train_2.loc[(X_train_2.Correct) & (X_train_2.Label==1.0), 'Correct_2'] = 'True binder'\n",
    "    X_train_2.loc[(X_train_2.Correct) & (X_train_2.Label==0.0), 'Correct_2'] = 'True non-binder'\n",
    "    X_train_2.loc[~(X_train_2.Correct) & (X_train_2.Label==1.0), 'Correct_2'] = 'False non-binder'\n",
    "    X_train_2.loc[~(X_train_2.Correct) & (X_train_2.Label==0.0), 'Correct_2'] = 'False binder'\n",
    "\n",
    "    X_test_2['Label'] = Y_test\n",
    "    X_test_2['Pred'] = preds_test\n",
    "    X_test_2['Correct'] = X_test_2.Label == X_test_2.Pred\n",
    "    X_test_2['Correct_2'] = X_test_2['Correct']\n",
    "    X_test_2.loc[(X_test_2.Correct) & (X_test_2.Label==1.0), 'Correct_2'] = 'True binder'\n",
    "    X_test_2.loc[(X_test_2.Correct) & (X_test_2.Label==0.0), 'Correct_2'] = 'True non-binder'\n",
    "    X_test_2.loc[~(X_test_2.Correct) & (X_test_2.Label==1.0), 'Correct_2'] = 'False non-binder'\n",
    "    X_test_2.loc[~(X_test_2.Correct) & (X_test_2.Label==0.0), 'Correct_2'] = 'False binder'\n",
    "    \n",
    "    X_all = pd.concat([X_train_2, X_test_2])\n",
    "    return X_all"
   ]
  },
  {
   "cell_type": "code",
   "execution_count": 5,
   "metadata": {},
   "outputs": [
    {
     "name": "stderr",
     "output_type": "stream",
     "text": [
      "/Users/chitrakgupta/Desktop/ASU_projects/GlycanModification/Data_Mar2020/find_examples/Results_Mar2021/glycan/_prepare.py:9: SettingWithCopyWarning:\n",
      "\n",
      "\n",
      "A value is trying to be set on a copy of a slice from a DataFrame.\n",
      "Try using .loc[row_indexer,col_indexer] = value instead\n",
      "\n",
      "See the caveats in the documentation: https://pandas.pydata.org/pandas-docs/stable/user_guide/indexing.html#returning-a-view-versus-a-copy\n",
      "\n"
     ]
    }
   ],
   "source": [
    "X_train, Y_train, X_test, Y_test, bindData = g.getTrainTest(egg, cutoff = 0.15, test_size=0.33, dropDP=True)\n",
    "clf_egg = svm.SVC(verbose=False)\n",
    "clf_egg.fit(X_train, Y_train)\n",
    "preds_train = clf_egg.predict(X_train)\n",
    "preds_test = clf_egg.predict(X_test)\n",
    "\n",
    "egg_self = getResults(X_train, Y_train, X_test, Y_test, preds_train, preds_test)"
   ]
  },
  {
   "cell_type": "code",
   "execution_count": 6,
   "metadata": {},
   "outputs": [
    {
     "name": "stdout",
     "output_type": "stream",
     "text": [
      "For now, we are skipping the header\n",
      "For now, we are skipping the header\n",
      "For now, we are skipping the header\n",
      "For now, we are skipping the header\n"
     ]
    },
    {
     "name": "stderr",
     "output_type": "stream",
     "text": [
      "/Users/chitrakgupta/Desktop/ASU_projects/GlycanModification/Data_Mar2020/find_examples/Results_Mar2021/glycan/_read.py:162: SettingWithCopyWarning:\n",
      "\n",
      "\n",
      "A value is trying to be set on a copy of a slice from a DataFrame.\n",
      "Try using .loc[row_indexer,col_indexer] = value instead\n",
      "\n",
      "See the caveats in the documentation: https://pandas.pydata.org/pandas-docs/stable/user_guide/indexing.html#returning-a-view-versus-a-copy\n",
      "\n"
     ]
    }
   ],
   "source": [
    "g2 = glycan()\n",
    "\n",
    "numberedExcel2 = g2.getData('../../MDCK_sheet2.csv', totalTabs=1)\n",
    "numberedExcel3 = g2.getData('../../MDCK_sheet3.csv', totalTabs=1)\n",
    "numberedExcel4 = g2.getData('../../MDCK_sheet4.csv', totalTabs=2)\n",
    "\n",
    "numberedExcel_temp = pd.concat([numberedExcel2, numberedExcel3, numberedExcel4], axis=0)\n",
    "mdck = numberedExcel_temp\n",
    "\n",
    "mdck.reset_index(drop=True, inplace=True)\n",
    "mdck['MVF'] = mdck.MVF/mdck.GlycDen"
   ]
  },
  {
   "cell_type": "code",
   "execution_count": 7,
   "metadata": {
    "scrolled": true
   },
   "outputs": [
    {
     "name": "stderr",
     "output_type": "stream",
     "text": [
      "/Users/chitrakgupta/Desktop/ASU_projects/GlycanModification/Data_Mar2020/find_examples/Results_Mar2021/glycan/_prepare.py:9: SettingWithCopyWarning:\n",
      "\n",
      "\n",
      "A value is trying to be set on a copy of a slice from a DataFrame.\n",
      "Try using .loc[row_indexer,col_indexer] = value instead\n",
      "\n",
      "See the caveats in the documentation: https://pandas.pydata.org/pandas-docs/stable/user_guide/indexing.html#returning-a-view-versus-a-copy\n",
      "\n"
     ]
    }
   ],
   "source": [
    "X_train_mdck, Y_train_mdck, X_test_mdck, Y_test_mdck, bindData_mdck = g2.getTrainTest(mdck, cutoff = 0.05, dropDP=True, test_size=0.33)\n",
    "clf_mdck = svm.SVC(verbose=False)\n",
    "clf_mdck.fit(X_train_mdck, Y_train_mdck)\n",
    "preds_train_mdck = clf_mdck.predict(X_train_mdck)\n",
    "preds_test_mdck = clf_mdck.predict(X_test_mdck)\n",
    "\n",
    "mdck_self = getResults(X_train_mdck, Y_train_mdck, X_test_mdck, Y_test_mdck, preds_train_mdck, preds_test_mdck)"
   ]
  },
  {
   "cell_type": "code",
   "execution_count": 8,
   "metadata": {},
   "outputs": [],
   "source": [
    "preds_train_cross_egg = clf_mdck.predict(X_train)\n",
    "preds_test_cross_egg = clf_mdck.predict(X_test)\n",
    "egg_cross = getResults(X_train, Y_train, X_test, Y_test, preds_train_cross_egg, preds_test_cross_egg)"
   ]
  },
  {
   "cell_type": "code",
   "execution_count": 9,
   "metadata": {},
   "outputs": [
    {
     "name": "stderr",
     "output_type": "stream",
     "text": [
      "/Users/chitrakgupta/anaconda3/lib/python3.7/site-packages/pandas/core/frame.py:4133: SettingWithCopyWarning:\n",
      "\n",
      "\n",
      "A value is trying to be set on a copy of a slice from a DataFrame\n",
      "\n",
      "See the caveats in the documentation: https://pandas.pydata.org/pandas-docs/stable/user_guide/indexing.html#returning-a-view-versus-a-copy\n",
      "\n"
     ]
    }
   ],
   "source": [
    "see1 = egg_cross[['Pred']]\n",
    "see1.rename({'Pred': 'Pred_cross'}, axis=1, inplace=True)\n",
    "egg_final = egg_self.join(see1)"
   ]
  },
  {
   "cell_type": "code",
   "execution_count": 10,
   "metadata": {},
   "outputs": [],
   "source": [
    "preds_train_cross_mdck = clf_egg.predict(X_train_mdck)\n",
    "preds_test_cross_mdck = clf_egg.predict(X_test_mdck)\n",
    "mdck_cross = getResults(X_train_mdck, Y_train_mdck, X_test_mdck, Y_test_mdck, preds_train_cross_mdck, preds_test_cross_mdck)"
   ]
  },
  {
   "cell_type": "code",
   "execution_count": 11,
   "metadata": {},
   "outputs": [
    {
     "name": "stderr",
     "output_type": "stream",
     "text": [
      "/Users/chitrakgupta/anaconda3/lib/python3.7/site-packages/pandas/core/frame.py:4133: SettingWithCopyWarning:\n",
      "\n",
      "\n",
      "A value is trying to be set on a copy of a slice from a DataFrame\n",
      "\n",
      "See the caveats in the documentation: https://pandas.pydata.org/pandas-docs/stable/user_guide/indexing.html#returning-a-view-versus-a-copy\n",
      "\n"
     ]
    }
   ],
   "source": [
    "see2 = mdck_cross[['Pred']]\n",
    "see2.rename({'Pred': 'Pred_cross'}, axis=1, inplace=True)\n",
    "mdck_final = mdck_self.join(see2)"
   ]
  },
  {
   "cell_type": "code",
   "execution_count": 12,
   "metadata": {},
   "outputs": [
    {
     "data": {
      "text/html": [
       "<div>\n",
       "<style scoped>\n",
       "    .dataframe tbody tr th:only-of-type {\n",
       "        vertical-align: middle;\n",
       "    }\n",
       "\n",
       "    .dataframe tbody tr th {\n",
       "        vertical-align: top;\n",
       "    }\n",
       "\n",
       "    .dataframe thead th {\n",
       "        text-align: right;\n",
       "    }\n",
       "</style>\n",
       "<table border=\"1\" class=\"dataframe\">\n",
       "  <thead>\n",
       "    <tr style=\"text-align: right;\">\n",
       "      <th></th>\n",
       "      <th>PrintPol</th>\n",
       "      <th>2-3 SiaLac</th>\n",
       "      <th>2-6 SiaLac</th>\n",
       "      <th>Valency</th>\n",
       "      <th>GlycSpace</th>\n",
       "      <th>GlycDen</th>\n",
       "      <th>Label</th>\n",
       "      <th>Pred</th>\n",
       "      <th>Correct</th>\n",
       "      <th>Correct_2</th>\n",
       "      <th>Pred_cross</th>\n",
       "    </tr>\n",
       "  </thead>\n",
       "  <tbody>\n",
       "    <tr>\n",
       "      <th>6128</th>\n",
       "      <td>0.0</td>\n",
       "      <td>0.0</td>\n",
       "      <td>1.0</td>\n",
       "      <td>0.174757</td>\n",
       "      <td>0.625000</td>\n",
       "      <td>0.005718</td>\n",
       "      <td>1.0</td>\n",
       "      <td>1.0</td>\n",
       "      <td>True</td>\n",
       "      <td>True binder</td>\n",
       "      <td>1.0</td>\n",
       "    </tr>\n",
       "    <tr>\n",
       "      <th>4198</th>\n",
       "      <td>0.0</td>\n",
       "      <td>0.0</td>\n",
       "      <td>1.0</td>\n",
       "      <td>0.000000</td>\n",
       "      <td>0.000000</td>\n",
       "      <td>0.004823</td>\n",
       "      <td>1.0</td>\n",
       "      <td>1.0</td>\n",
       "      <td>True</td>\n",
       "      <td>True binder</td>\n",
       "      <td>1.0</td>\n",
       "    </tr>\n",
       "    <tr>\n",
       "      <th>7728</th>\n",
       "      <td>0.0</td>\n",
       "      <td>0.0</td>\n",
       "      <td>1.0</td>\n",
       "      <td>0.000000</td>\n",
       "      <td>0.000000</td>\n",
       "      <td>0.018995</td>\n",
       "      <td>1.0</td>\n",
       "      <td>1.0</td>\n",
       "      <td>True</td>\n",
       "      <td>True binder</td>\n",
       "      <td>1.0</td>\n",
       "    </tr>\n",
       "    <tr>\n",
       "      <th>1828</th>\n",
       "      <td>0.0</td>\n",
       "      <td>0.0</td>\n",
       "      <td>1.0</td>\n",
       "      <td>0.592233</td>\n",
       "      <td>0.441860</td>\n",
       "      <td>0.005556</td>\n",
       "      <td>1.0</td>\n",
       "      <td>1.0</td>\n",
       "      <td>True</td>\n",
       "      <td>True binder</td>\n",
       "      <td>1.0</td>\n",
       "    </tr>\n",
       "    <tr>\n",
       "      <th>750</th>\n",
       "      <td>0.0</td>\n",
       "      <td>0.0</td>\n",
       "      <td>1.0</td>\n",
       "      <td>0.592233</td>\n",
       "      <td>0.441860</td>\n",
       "      <td>0.006006</td>\n",
       "      <td>1.0</td>\n",
       "      <td>1.0</td>\n",
       "      <td>True</td>\n",
       "      <td>True binder</td>\n",
       "      <td>1.0</td>\n",
       "    </tr>\n",
       "    <tr>\n",
       "      <th>...</th>\n",
       "      <td>...</td>\n",
       "      <td>...</td>\n",
       "      <td>...</td>\n",
       "      <td>...</td>\n",
       "      <td>...</td>\n",
       "      <td>...</td>\n",
       "      <td>...</td>\n",
       "      <td>...</td>\n",
       "      <td>...</td>\n",
       "      <td>...</td>\n",
       "      <td>...</td>\n",
       "    </tr>\n",
       "    <tr>\n",
       "      <th>6067</th>\n",
       "      <td>1.0</td>\n",
       "      <td>1.0</td>\n",
       "      <td>0.0</td>\n",
       "      <td>1.000000</td>\n",
       "      <td>0.508721</td>\n",
       "      <td>0.056311</td>\n",
       "      <td>0.0</td>\n",
       "      <td>0.0</td>\n",
       "      <td>True</td>\n",
       "      <td>True non-binder</td>\n",
       "      <td>1.0</td>\n",
       "    </tr>\n",
       "    <tr>\n",
       "      <th>7021</th>\n",
       "      <td>1.0</td>\n",
       "      <td>1.0</td>\n",
       "      <td>0.0</td>\n",
       "      <td>1.000000</td>\n",
       "      <td>0.508721</td>\n",
       "      <td>0.082877</td>\n",
       "      <td>0.0</td>\n",
       "      <td>0.0</td>\n",
       "      <td>True</td>\n",
       "      <td>True non-binder</td>\n",
       "      <td>1.0</td>\n",
       "    </tr>\n",
       "    <tr>\n",
       "      <th>6071</th>\n",
       "      <td>1.0</td>\n",
       "      <td>1.0</td>\n",
       "      <td>0.0</td>\n",
       "      <td>1.000000</td>\n",
       "      <td>0.508721</td>\n",
       "      <td>0.068382</td>\n",
       "      <td>0.0</td>\n",
       "      <td>0.0</td>\n",
       "      <td>True</td>\n",
       "      <td>True non-binder</td>\n",
       "      <td>1.0</td>\n",
       "    </tr>\n",
       "    <tr>\n",
       "      <th>6069</th>\n",
       "      <td>1.0</td>\n",
       "      <td>1.0</td>\n",
       "      <td>0.0</td>\n",
       "      <td>1.000000</td>\n",
       "      <td>0.508721</td>\n",
       "      <td>0.059120</td>\n",
       "      <td>0.0</td>\n",
       "      <td>0.0</td>\n",
       "      <td>True</td>\n",
       "      <td>True non-binder</td>\n",
       "      <td>1.0</td>\n",
       "    </tr>\n",
       "    <tr>\n",
       "      <th>7666</th>\n",
       "      <td>1.0</td>\n",
       "      <td>1.0</td>\n",
       "      <td>0.0</td>\n",
       "      <td>1.000000</td>\n",
       "      <td>0.508721</td>\n",
       "      <td>0.033598</td>\n",
       "      <td>0.0</td>\n",
       "      <td>0.0</td>\n",
       "      <td>True</td>\n",
       "      <td>True non-binder</td>\n",
       "      <td>1.0</td>\n",
       "    </tr>\n",
       "  </tbody>\n",
       "</table>\n",
       "<p>5967 rows × 11 columns</p>\n",
       "</div>"
      ],
      "text/plain": [
       "      PrintPol  2-3 SiaLac  2-6 SiaLac   Valency  GlycSpace   GlycDen  Label  \\\n",
       "6128       0.0         0.0         1.0  0.174757   0.625000  0.005718    1.0   \n",
       "4198       0.0         0.0         1.0  0.000000   0.000000  0.004823    1.0   \n",
       "7728       0.0         0.0         1.0  0.000000   0.000000  0.018995    1.0   \n",
       "1828       0.0         0.0         1.0  0.592233   0.441860  0.005556    1.0   \n",
       "750        0.0         0.0         1.0  0.592233   0.441860  0.006006    1.0   \n",
       "...        ...         ...         ...       ...        ...       ...    ...   \n",
       "6067       1.0         1.0         0.0  1.000000   0.508721  0.056311    0.0   \n",
       "7021       1.0         1.0         0.0  1.000000   0.508721  0.082877    0.0   \n",
       "6071       1.0         1.0         0.0  1.000000   0.508721  0.068382    0.0   \n",
       "6069       1.0         1.0         0.0  1.000000   0.508721  0.059120    0.0   \n",
       "7666       1.0         1.0         0.0  1.000000   0.508721  0.033598    0.0   \n",
       "\n",
       "      Pred  Correct        Correct_2  Pred_cross  \n",
       "6128   1.0     True      True binder         1.0  \n",
       "4198   1.0     True      True binder         1.0  \n",
       "7728   1.0     True      True binder         1.0  \n",
       "1828   1.0     True      True binder         1.0  \n",
       "750    1.0     True      True binder         1.0  \n",
       "...    ...      ...              ...         ...  \n",
       "6067   0.0     True  True non-binder         1.0  \n",
       "7021   0.0     True  True non-binder         1.0  \n",
       "6071   0.0     True  True non-binder         1.0  \n",
       "6069   0.0     True  True non-binder         1.0  \n",
       "7666   0.0     True  True non-binder         1.0  \n",
       "\n",
       "[5967 rows x 11 columns]"
      ]
     },
     "execution_count": 12,
     "metadata": {},
     "output_type": "execute_result"
    }
   ],
   "source": [
    "egg_final"
   ]
  },
  {
   "cell_type": "code",
   "execution_count": 13,
   "metadata": {},
   "outputs": [],
   "source": [
    "egg = egg[egg.GlycType != 'Lac']\n",
    "egg['Status'] = 'Others'\n",
    "\n",
    "egg.loc[((egg_final.Correct_2 == 'True binder') & (egg_final.Pred_cross == 1.0)), 'Status'] = 'Conserved'\n",
    "egg.loc[((egg_final.Correct_2 == 'True non-binder') & (egg_final.Pred_cross == 1.0)), 'Status'] = 'Lost in egg'\n",
    "egg.loc[((egg_final.Correct_2 == 'True binder') & (egg_final.Pred_cross == 0.0)), 'Status'] = 'Gained in egg'"
   ]
  },
  {
   "cell_type": "code",
   "execution_count": 14,
   "metadata": {},
   "outputs": [],
   "source": [
    "eggcopy = egg.copy()\n",
    "eggcopy[['Label', 'Pred', 'Pred_cross']] = egg_final[['Label', 'Pred', 'Pred_cross']]"
   ]
  },
  {
   "cell_type": "code",
   "execution_count": 15,
   "metadata": {},
   "outputs": [
    {
     "name": "stderr",
     "output_type": "stream",
     "text": [
      "/Users/chitrakgupta/anaconda3/lib/python3.7/site-packages/ipykernel_launcher.py:2: SettingWithCopyWarning:\n",
      "\n",
      "\n",
      "A value is trying to be set on a copy of a slice from a DataFrame.\n",
      "Try using .loc[row_indexer,col_indexer] = value instead\n",
      "\n",
      "See the caveats in the documentation: https://pandas.pydata.org/pandas-docs/stable/user_guide/indexing.html#returning-a-view-versus-a-copy\n",
      "\n",
      "/Users/chitrakgupta/anaconda3/lib/python3.7/site-packages/pandas/core/indexing.py:965: SettingWithCopyWarning:\n",
      "\n",
      "\n",
      "A value is trying to be set on a copy of a slice from a DataFrame.\n",
      "Try using .loc[row_indexer,col_indexer] = value instead\n",
      "\n",
      "See the caveats in the documentation: https://pandas.pydata.org/pandas-docs/stable/user_guide/indexing.html#returning-a-view-versus-a-copy\n",
      "\n"
     ]
    }
   ],
   "source": [
    "mdck = mdck[mdck.GlycType != 'Lac']\n",
    "mdck['Status'] = 'Others'\n",
    "\n",
    "mdck.loc[((mdck_final.Correct_2 == 'True binder') & (mdck_final.Pred_cross == 1.0), 'Status')] = 'Conserved'\n",
    "mdck.loc[((mdck_final.Correct_2 == 'True non-binder') & (mdck_final.Pred_cross == 1.0), 'Status')] = 'Lost in MDCK'\n",
    "mdck.loc[((mdck_final.Correct_2 == 'True binder') & (mdck_final.Pred_cross == 0.0), 'Status')] = 'Gained in MDCK'"
   ]
  },
  {
   "cell_type": "code",
   "execution_count": 16,
   "metadata": {},
   "outputs": [],
   "source": [
    "mdckcopy = mdck.copy()\n",
    "mdckcopy[['Label', 'Pred', 'Pred_cross']] = mdck_final[['Label', 'Pred', 'Pred_cross']]"
   ]
  },
  {
   "cell_type": "code",
   "execution_count": 17,
   "metadata": {},
   "outputs": [],
   "source": [
    "egg_Mar21 = eggcopy.drop(['SubArr', 'ExpNum', 'FileName'], axis=1)\n",
    "egg_Mar21['Experiment'] = 'Non-binder'\n",
    "egg_Mar21['Self-model'] = 'Non-binder'\n",
    "egg_Mar21['Cross-model'] = 'Non-binder'\n",
    "egg_Mar21.loc[(egg_Mar21.Label == 1), 'Experiment'] = 'Binder'\n",
    "egg_Mar21.loc[(egg_Mar21.Pred == 1), 'Self-model'] = 'Binder'\n",
    "egg_Mar21.loc[(egg_Mar21.Pred_cross == 1), 'Cross-model'] = 'Binder'\n",
    "egg_Mar21_final = egg_Mar21.drop(['Label', 'Pred', 'Pred_cross'], axis=1)"
   ]
  },
  {
   "cell_type": "code",
   "execution_count": 18,
   "metadata": {},
   "outputs": [],
   "source": [
    "mdck_Mar21 = mdckcopy.drop(['SubArr', 'ExpNum', 'FileName'], axis=1)\n",
    "mdck_Mar21['Experiment'] = 'Non-binder'\n",
    "mdck_Mar21['Self-model'] = 'Non-binder'\n",
    "mdck_Mar21['Cross-model'] = 'Non-binder'\n",
    "mdck_Mar21.loc[(mdck_Mar21.Label == 1), 'Experiment'] = 'Binder'\n",
    "mdck_Mar21.loc[(mdck_Mar21.Pred == 1), 'Self-model'] = 'Binder'\n",
    "mdck_Mar21.loc[(mdck_Mar21.Pred_cross == 1), 'Cross-model'] = 'Binder'\n",
    "mdck_Mar21_final = mdck_Mar21.drop(['Label', 'Pred', 'Pred_cross'], axis=1)"
   ]
  },
  {
   "cell_type": "code",
   "execution_count": 19,
   "metadata": {},
   "outputs": [],
   "source": [
    "egg_Mar21_final.to_csv(\"egg_allcolumns_Mar21.csv\", index=False)\n",
    "mdck_Mar21_final.to_csv(\"mdck_allcolumns_Mar21.csv\", index=False)"
   ]
  },
  {
   "cell_type": "code",
   "execution_count": 23,
   "metadata": {},
   "outputs": [],
   "source": [
    "egg_cnb = egg_Mar21_final.loc[((egg_Mar21_final['Experiment'] == 'Non-binder') & (egg_Mar21_final['Self-model'] == 'Non-binder') & (egg_Mar21_final['Cross-model'] == 'Non-binder'))]"
   ]
  },
  {
   "cell_type": "code",
   "execution_count": 24,
   "metadata": {},
   "outputs": [],
   "source": [
    "mdck_cnb = mdck_Mar21_final.loc[((mdck_Mar21_final['Experiment'] == 'Non-binder') & (mdck_Mar21_final['Self-model'] == 'Non-binder') & (mdck_Mar21_final['Cross-model'] == 'Non-binder'))]"
   ]
  },
  {
   "cell_type": "code",
   "execution_count": 25,
   "metadata": {},
   "outputs": [],
   "source": [
    "egg_cnb.to_csv(\"egg_conserved_nonbinders.csv\", index=False)\n",
    "mdck_cnb.to_csv(\"mdck_conserved_nonbinders.csv\", index=False)"
   ]
  },
  {
   "cell_type": "code",
   "execution_count": 26,
   "metadata": {},
   "outputs": [],
   "source": [
    "egg.to_csv(\"egg_status_Feb1.csv\", index=False)\n",
    "mdck.to_csv(\"mdck_status_Feb1.csv\", index=False)"
   ]
  },
  {
   "cell_type": "code",
   "execution_count": 27,
   "metadata": {},
   "outputs": [],
   "source": [
    "egg_reset = egg.reset_index(drop=True)\n",
    "lastInd = egg_reset.index[-1] + 1"
   ]
  },
  {
   "cell_type": "code",
   "execution_count": 28,
   "metadata": {},
   "outputs": [],
   "source": [
    "mdck_reset = mdck.reset_index(drop=True)\n",
    "mdck_reset.index = mdck_reset.index + lastInd"
   ]
  },
  {
   "cell_type": "code",
   "execution_count": 29,
   "metadata": {},
   "outputs": [],
   "source": [
    "allDat = pd.concat([egg_reset, mdck_reset])\n",
    "allDat.to_csv(\"All_Feb1.csv\", index=False)"
   ]
  },
  {
   "cell_type": "code",
   "execution_count": 30,
   "metadata": {},
   "outputs": [],
   "source": [
    "eggcopy.to_csv(\"Egg_Feb1.csv\", index=False)"
   ]
  },
  {
   "cell_type": "code",
   "execution_count": 31,
   "metadata": {},
   "outputs": [],
   "source": [
    "mdckcopy.to_csv(\"MDCK_Feb1.csv\", index=False)"
   ]
  },
  {
   "cell_type": "code",
   "execution_count": 32,
   "metadata": {},
   "outputs": [
    {
     "data": {
      "text/html": [
       "<div>\n",
       "<style scoped>\n",
       "    .dataframe tbody tr th:only-of-type {\n",
       "        vertical-align: middle;\n",
       "    }\n",
       "\n",
       "    .dataframe tbody tr th {\n",
       "        vertical-align: top;\n",
       "    }\n",
       "\n",
       "    .dataframe thead th {\n",
       "        text-align: right;\n",
       "    }\n",
       "</style>\n",
       "<table border=\"1\" class=\"dataframe\">\n",
       "  <thead>\n",
       "    <tr style=\"text-align: right;\">\n",
       "      <th></th>\n",
       "      <th>PrintPol</th>\n",
       "      <th>GlycType</th>\n",
       "      <th>DP</th>\n",
       "      <th>Valency</th>\n",
       "      <th>GlycSpace</th>\n",
       "      <th>PolSpace</th>\n",
       "      <th>GlycDen</th>\n",
       "      <th>MVF</th>\n",
       "      <th>SubArr</th>\n",
       "      <th>ExpNum</th>\n",
       "      <th>FileName</th>\n",
       "      <th>Status</th>\n",
       "      <th>Label</th>\n",
       "      <th>Pred</th>\n",
       "      <th>Pred_cross</th>\n",
       "    </tr>\n",
       "  </thead>\n",
       "  <tbody>\n",
       "    <tr>\n",
       "      <th>30</th>\n",
       "      <td>1.0</td>\n",
       "      <td>2-6 SiaLac</td>\n",
       "      <td>300.0</td>\n",
       "      <td>141.0</td>\n",
       "      <td>0.47</td>\n",
       "      <td>0.354</td>\n",
       "      <td>49.861</td>\n",
       "      <td>4.713102</td>\n",
       "      <td>0</td>\n",
       "      <td>6</td>\n",
       "      <td>../../MDCK_sheet2.csv</td>\n",
       "      <td>Gained in MDCK</td>\n",
       "      <td>1.0</td>\n",
       "      <td>1.0</td>\n",
       "      <td>0.0</td>\n",
       "    </tr>\n",
       "    <tr>\n",
       "      <th>31</th>\n",
       "      <td>1.0</td>\n",
       "      <td>2-6 SiaLac</td>\n",
       "      <td>300.0</td>\n",
       "      <td>141.0</td>\n",
       "      <td>0.47</td>\n",
       "      <td>0.328</td>\n",
       "      <td>46.265</td>\n",
       "      <td>5.446882</td>\n",
       "      <td>0</td>\n",
       "      <td>6</td>\n",
       "      <td>../../MDCK_sheet2.csv</td>\n",
       "      <td>Gained in MDCK</td>\n",
       "      <td>1.0</td>\n",
       "      <td>1.0</td>\n",
       "      <td>0.0</td>\n",
       "    </tr>\n",
       "    <tr>\n",
       "      <th>32</th>\n",
       "      <td>1.0</td>\n",
       "      <td>2-6 SiaLac</td>\n",
       "      <td>300.0</td>\n",
       "      <td>141.0</td>\n",
       "      <td>0.47</td>\n",
       "      <td>0.325</td>\n",
       "      <td>45.772</td>\n",
       "      <td>5.177838</td>\n",
       "      <td>0</td>\n",
       "      <td>6</td>\n",
       "      <td>../../MDCK_sheet2.csv</td>\n",
       "      <td>Gained in MDCK</td>\n",
       "      <td>1.0</td>\n",
       "      <td>1.0</td>\n",
       "      <td>0.0</td>\n",
       "    </tr>\n",
       "    <tr>\n",
       "      <th>33</th>\n",
       "      <td>1.0</td>\n",
       "      <td>2-6 SiaLac</td>\n",
       "      <td>300.0</td>\n",
       "      <td>141.0</td>\n",
       "      <td>0.47</td>\n",
       "      <td>0.348</td>\n",
       "      <td>49.119</td>\n",
       "      <td>5.150756</td>\n",
       "      <td>0</td>\n",
       "      <td>6</td>\n",
       "      <td>../../MDCK_sheet2.csv</td>\n",
       "      <td>Gained in MDCK</td>\n",
       "      <td>1.0</td>\n",
       "      <td>1.0</td>\n",
       "      <td>0.0</td>\n",
       "    </tr>\n",
       "    <tr>\n",
       "      <th>34</th>\n",
       "      <td>1.0</td>\n",
       "      <td>2-6 SiaLac</td>\n",
       "      <td>300.0</td>\n",
       "      <td>141.0</td>\n",
       "      <td>0.47</td>\n",
       "      <td>0.404</td>\n",
       "      <td>56.969</td>\n",
       "      <td>4.353245</td>\n",
       "      <td>0</td>\n",
       "      <td>6</td>\n",
       "      <td>../../MDCK_sheet2.csv</td>\n",
       "      <td>Gained in MDCK</td>\n",
       "      <td>1.0</td>\n",
       "      <td>1.0</td>\n",
       "      <td>0.0</td>\n",
       "    </tr>\n",
       "    <tr>\n",
       "      <th>...</th>\n",
       "      <td>...</td>\n",
       "      <td>...</td>\n",
       "      <td>...</td>\n",
       "      <td>...</td>\n",
       "      <td>...</td>\n",
       "      <td>...</td>\n",
       "      <td>...</td>\n",
       "      <td>...</td>\n",
       "      <td>...</td>\n",
       "      <td>...</td>\n",
       "      <td>...</td>\n",
       "      <td>...</td>\n",
       "      <td>...</td>\n",
       "      <td>...</td>\n",
       "      <td>...</td>\n",
       "    </tr>\n",
       "    <tr>\n",
       "      <th>1214</th>\n",
       "      <td>10.0</td>\n",
       "      <td>2-3 SiaLac</td>\n",
       "      <td>300.0</td>\n",
       "      <td>147.0</td>\n",
       "      <td>2.04</td>\n",
       "      <td>0.058</td>\n",
       "      <td>8.592</td>\n",
       "      <td>400.837989</td>\n",
       "      <td>3</td>\n",
       "      <td>99</td>\n",
       "      <td>../../MDCK_sheet4.csv</td>\n",
       "      <td>Gained in MDCK</td>\n",
       "      <td>1.0</td>\n",
       "      <td>1.0</td>\n",
       "      <td>0.0</td>\n",
       "    </tr>\n",
       "    <tr>\n",
       "      <th>1215</th>\n",
       "      <td>10.0</td>\n",
       "      <td>2-3 SiaLac</td>\n",
       "      <td>300.0</td>\n",
       "      <td>147.0</td>\n",
       "      <td>2.04</td>\n",
       "      <td>0.035</td>\n",
       "      <td>5.159</td>\n",
       "      <td>738.321380</td>\n",
       "      <td>3</td>\n",
       "      <td>99</td>\n",
       "      <td>../../MDCK_sheet4.csv</td>\n",
       "      <td>Gained in MDCK</td>\n",
       "      <td>1.0</td>\n",
       "      <td>1.0</td>\n",
       "      <td>0.0</td>\n",
       "    </tr>\n",
       "    <tr>\n",
       "      <th>1216</th>\n",
       "      <td>10.0</td>\n",
       "      <td>2-3 SiaLac</td>\n",
       "      <td>300.0</td>\n",
       "      <td>147.0</td>\n",
       "      <td>2.04</td>\n",
       "      <td>0.060</td>\n",
       "      <td>8.850</td>\n",
       "      <td>395.028249</td>\n",
       "      <td>3</td>\n",
       "      <td>99</td>\n",
       "      <td>../../MDCK_sheet4.csv</td>\n",
       "      <td>Gained in MDCK</td>\n",
       "      <td>1.0</td>\n",
       "      <td>1.0</td>\n",
       "      <td>0.0</td>\n",
       "    </tr>\n",
       "    <tr>\n",
       "      <th>1217</th>\n",
       "      <td>10.0</td>\n",
       "      <td>2-3 SiaLac</td>\n",
       "      <td>300.0</td>\n",
       "      <td>147.0</td>\n",
       "      <td>2.04</td>\n",
       "      <td>0.065</td>\n",
       "      <td>9.557</td>\n",
       "      <td>395.103066</td>\n",
       "      <td>3</td>\n",
       "      <td>99</td>\n",
       "      <td>../../MDCK_sheet4.csv</td>\n",
       "      <td>Gained in MDCK</td>\n",
       "      <td>1.0</td>\n",
       "      <td>1.0</td>\n",
       "      <td>0.0</td>\n",
       "    </tr>\n",
       "    <tr>\n",
       "      <th>1218</th>\n",
       "      <td>10.0</td>\n",
       "      <td>2-3 SiaLac</td>\n",
       "      <td>300.0</td>\n",
       "      <td>147.0</td>\n",
       "      <td>2.04</td>\n",
       "      <td>0.053</td>\n",
       "      <td>7.852</td>\n",
       "      <td>461.411105</td>\n",
       "      <td>3</td>\n",
       "      <td>99</td>\n",
       "      <td>../../MDCK_sheet4.csv</td>\n",
       "      <td>Gained in MDCK</td>\n",
       "      <td>1.0</td>\n",
       "      <td>1.0</td>\n",
       "      <td>0.0</td>\n",
       "    </tr>\n",
       "  </tbody>\n",
       "</table>\n",
       "<p>218 rows × 15 columns</p>\n",
       "</div>"
      ],
      "text/plain": [
       "      PrintPol    GlycType     DP  Valency  GlycSpace  PolSpace  GlycDen  \\\n",
       "30         1.0  2-6 SiaLac  300.0    141.0       0.47     0.354   49.861   \n",
       "31         1.0  2-6 SiaLac  300.0    141.0       0.47     0.328   46.265   \n",
       "32         1.0  2-6 SiaLac  300.0    141.0       0.47     0.325   45.772   \n",
       "33         1.0  2-6 SiaLac  300.0    141.0       0.47     0.348   49.119   \n",
       "34         1.0  2-6 SiaLac  300.0    141.0       0.47     0.404   56.969   \n",
       "...        ...         ...    ...      ...        ...       ...      ...   \n",
       "1214      10.0  2-3 SiaLac  300.0    147.0       2.04     0.058    8.592   \n",
       "1215      10.0  2-3 SiaLac  300.0    147.0       2.04     0.035    5.159   \n",
       "1216      10.0  2-3 SiaLac  300.0    147.0       2.04     0.060    8.850   \n",
       "1217      10.0  2-3 SiaLac  300.0    147.0       2.04     0.065    9.557   \n",
       "1218      10.0  2-3 SiaLac  300.0    147.0       2.04     0.053    7.852   \n",
       "\n",
       "             MVF  SubArr  ExpNum               FileName          Status  \\\n",
       "30      4.713102       0       6  ../../MDCK_sheet2.csv  Gained in MDCK   \n",
       "31      5.446882       0       6  ../../MDCK_sheet2.csv  Gained in MDCK   \n",
       "32      5.177838       0       6  ../../MDCK_sheet2.csv  Gained in MDCK   \n",
       "33      5.150756       0       6  ../../MDCK_sheet2.csv  Gained in MDCK   \n",
       "34      4.353245       0       6  ../../MDCK_sheet2.csv  Gained in MDCK   \n",
       "...          ...     ...     ...                    ...             ...   \n",
       "1214  400.837989       3      99  ../../MDCK_sheet4.csv  Gained in MDCK   \n",
       "1215  738.321380       3      99  ../../MDCK_sheet4.csv  Gained in MDCK   \n",
       "1216  395.028249       3      99  ../../MDCK_sheet4.csv  Gained in MDCK   \n",
       "1217  395.103066       3      99  ../../MDCK_sheet4.csv  Gained in MDCK   \n",
       "1218  461.411105       3      99  ../../MDCK_sheet4.csv  Gained in MDCK   \n",
       "\n",
       "      Label  Pred  Pred_cross  \n",
       "30      1.0   1.0         0.0  \n",
       "31      1.0   1.0         0.0  \n",
       "32      1.0   1.0         0.0  \n",
       "33      1.0   1.0         0.0  \n",
       "34      1.0   1.0         0.0  \n",
       "...     ...   ...         ...  \n",
       "1214    1.0   1.0         0.0  \n",
       "1215    1.0   1.0         0.0  \n",
       "1216    1.0   1.0         0.0  \n",
       "1217    1.0   1.0         0.0  \n",
       "1218    1.0   1.0         0.0  \n",
       "\n",
       "[218 rows x 15 columns]"
      ]
     },
     "execution_count": 32,
     "metadata": {},
     "output_type": "execute_result"
    }
   ],
   "source": [
    "mdckcopy[mdckcopy.Status == 'Gained in MDCK']"
   ]
  },
  {
   "cell_type": "code",
   "execution_count": 33,
   "metadata": {},
   "outputs": [],
   "source": [
    "first_elim = mdck.loc[(mdck_final.Label == 1) & (mdck_final.Pred == 0)]"
   ]
  },
  {
   "cell_type": "code",
   "execution_count": 34,
   "metadata": {},
   "outputs": [],
   "source": [
    "second_elim = mdck.loc[(mdck_final.Label == 0) & (mdck_final.Pred == 1)]"
   ]
  },
  {
   "cell_type": "code",
   "execution_count": 35,
   "metadata": {},
   "outputs": [],
   "source": [
    "third_elim = mdck.loc[(mdck_final.Label == 0) & (mdck_final.Pred == 0) & (mdck_final.Pred_cross == 0)]"
   ]
  },
  {
   "cell_type": "code",
   "execution_count": 36,
   "metadata": {},
   "outputs": [],
   "source": [
    "first_elim.to_csv(\"FirstElim.csv\", index=False)"
   ]
  },
  {
   "cell_type": "code",
   "execution_count": 37,
   "metadata": {},
   "outputs": [],
   "source": [
    "second_elim.to_csv(\"SecondElim.csv\", index=False)"
   ]
  },
  {
   "cell_type": "code",
   "execution_count": 38,
   "metadata": {},
   "outputs": [],
   "source": [
    "third_elim.to_csv(\"ThirdElim.csv\", index=False)"
   ]
  },
  {
   "cell_type": "code",
   "execution_count": null,
   "metadata": {},
   "outputs": [],
   "source": []
  }
 ],
 "metadata": {
  "kernelspec": {
   "display_name": "Python 3",
   "language": "python",
   "name": "python3"
  },
  "language_info": {
   "codemirror_mode": {
    "name": "ipython",
    "version": 3
   },
   "file_extension": ".py",
   "mimetype": "text/x-python",
   "name": "python",
   "nbconvert_exporter": "python",
   "pygments_lexer": "ipython3",
   "version": "3.7.6"
  }
 },
 "nbformat": 4,
 "nbformat_minor": 4
}
