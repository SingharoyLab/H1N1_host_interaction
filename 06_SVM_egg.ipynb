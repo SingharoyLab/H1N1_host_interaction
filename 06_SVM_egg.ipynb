{
 "cells": [
  {
   "cell_type": "code",
   "execution_count": 1,
   "metadata": {},
   "outputs": [],
   "source": [
    "from glycan import glycan\n",
    "import numpy as np\n",
    "import pandas as pd\n",
    "\n",
    "from sklearn import svm\n",
    "from sklearn.metrics import roc_auc_score, accuracy_score, precision_score, recall_score, f1_score\n",
    "from sklearn.metrics import confusion_matrix\n",
    "\n",
    "import matplotlib.pyplot as plt"
   ]
  },
  {
   "cell_type": "code",
   "execution_count": 2,
   "metadata": {},
   "outputs": [
    {
     "name": "stdout",
     "output_type": "stream",
     "text": [
      "For now, we are skipping the header\n",
      "For now, we are skipping the header\n",
      "For now, we are skipping the header\n",
      "For now, we are skipping the header\n",
      "For now, we are skipping the header\n",
      "For now, we are skipping the header\n",
      "For now, we are skipping the header\n",
      "For now, we are skipping the header\n",
      "For now, we are skipping the header\n",
      "For now, we are skipping the header\n",
      "For now, we are skipping the header\n",
      "For now, we are skipping the header\n",
      "For now, we are skipping the header\n",
      "For now, we are skipping the header\n",
      "For now, we are skipping the header\n"
     ]
    },
    {
     "name": "stderr",
     "output_type": "stream",
     "text": [
      "/Users/chitrakgupta/Desktop/ASU_projects/GlycanModification/Data_Mar2020/find_examples/H1N1_host_interaction/glycan/_read.py:162: SettingWithCopyWarning:\n",
      "\n",
      "\n",
      "A value is trying to be set on a copy of a slice from a DataFrame.\n",
      "Try using .loc[row_indexer,col_indexer] = value instead\n",
      "\n",
      "See the caveats in the documentation: https://pandas.pydata.org/pandas-docs/stable/user_guide/indexing.html#returning-a-view-versus-a-copy\n",
      "\n"
     ]
    },
    {
     "name": "stdout",
     "output_type": "stream",
     "text": [
      "For now, we are skipping the header\n",
      "For now, we are skipping the header\n",
      "For now, we are skipping the header\n",
      "For now, we are skipping the header\n",
      "For now, we are skipping the header\n",
      "For now, we are skipping the header\n",
      "For now, we are skipping the header\n",
      "For now, we are skipping the header\n",
      "For now, we are skipping the header\n",
      "For now, we are skipping the header\n",
      "For now, we are skipping the header\n",
      "For now, we are skipping the header\n",
      "For now, we are skipping the header\n",
      "For now, we are skipping the header\n",
      "For now, we are skipping the header\n",
      "For now, we are skipping the header\n"
     ]
    },
    {
     "name": "stderr",
     "output_type": "stream",
     "text": [
      "/Users/chitrakgupta/anaconda3/lib/python3.7/site-packages/ipykernel_launcher.py:29: SettingWithCopyWarning:\n",
      "\n",
      "\n",
      "A value is trying to be set on a copy of a slice from a DataFrame.\n",
      "Try using .loc[row_indexer,col_indexer] = value instead\n",
      "\n",
      "See the caveats in the documentation: https://pandas.pydata.org/pandas-docs/stable/user_guide/indexing.html#returning-a-view-versus-a-copy\n",
      "\n"
     ]
    }
   ],
   "source": [
    "# Create an instance of the glycan class\n",
    "g = glycan()\n",
    "\n",
    "# Read data (CSV files) as pandas data frames. Each file is a new line.\n",
    "# Note that each file can have multiple experiments, called \"tabs\" here.\n",
    "# You can specify how many tabs you want to read using the totalTabs variable.\n",
    "\n",
    "# The \"wh\" parameter simply controls the format of the CSV file.\n",
    "# The 'old' format is slightly different from the 'new' format, but has the same information\n",
    "numberedExcel1 = g.getData('Data/H1N1_EGG/old_sheet1.csv', wh='old', totalTabs=3)\n",
    "numberedExcel2 = g.getData('Data/H1N1_EGG/old_sheet2.csv', wh='old', totalTabs=4)\n",
    "numberedExcel3 = g.getData('Data/H1N1_EGG/old_sheet3.csv', wh='old', totalTabs=4)\n",
    "numberedExcel4 = g.getData('Data/H1N1_EGG/new_sheet1.csv', totalTabs=2)\n",
    "numberedExcel5 = g.getData('Data/H1N1_EGG/new_sheet2.csv', totalTabs=2)\n",
    "numberedExcel6 = g.getData('Data/H1N1_EGG/new_sheet3.csv', totalTabs=2)\n",
    "numberedExcel7 = g.getData('Data/H1N1_EGG/new_sheet4.csv', totalTabs=4)\n",
    "numberedExcel8 = g.getData('Data/H1N1_EGG/new_sheet5.csv', totalTabs=4)\n",
    "numberedExcel9 = g.getData('Data/H1N1_EGG/new_sheet6.csv', totalTabs=4)\n",
    "numberedExcel10 = g.getData('Data/H1N1_EGG/egg_virus_dilutions_secondTab_updated.csv', totalTabs=2)\n",
    "\n",
    "# Now combine all the data frames\n",
    "numberedExcel_temp = pd.concat([numberedExcel1, numberedExcel2, numberedExcel3, numberedExcel4, numberedExcel5, numberedExcel6, numberedExcel7, numberedExcel8, numberedExcel9, numberedExcel10], axis=0)\n",
    "\n",
    "# Removing the blocks with bad data. These were hand-picked by visual inspection of experimental results\n",
    "egg = numberedExcel_temp[~((numberedExcel_temp.SubArr == 23) | (numberedExcel_temp.SubArr == 25) | (numberedExcel_temp.SubArr == 26))]\n",
    "\n",
    "egg.reset_index(drop=True, inplace=True)\n",
    "# Scaling the mean viral fluorescence by glycan density.\n",
    "egg['MVF'] = egg.MVF/egg.GlycDen"
   ]
  },
  {
   "cell_type": "code",
   "execution_count": 3,
   "metadata": {},
   "outputs": [
    {
     "name": "stderr",
     "output_type": "stream",
     "text": [
      "/Users/chitrakgupta/Desktop/ASU_projects/GlycanModification/Data_Mar2020/find_examples/H1N1_host_interaction/glycan/_prepare.py:9: SettingWithCopyWarning:\n",
      "\n",
      "\n",
      "A value is trying to be set on a copy of a slice from a DataFrame.\n",
      "Try using .loc[row_indexer,col_indexer] = value instead\n",
      "\n",
      "See the caveats in the documentation: https://pandas.pydata.org/pandas-docs/stable/user_guide/indexing.html#returning-a-view-versus-a-copy\n",
      "\n"
     ]
    }
   ],
   "source": [
    "# Cutoff for H1N1_EGG is 0.15\n",
    "cutoff = 0.15\n",
    "\n",
    "# Randomly split data into training and testing.\n",
    "X_train, Y_train, X_test, Y_test, minMaxList = g.getTrainTest(egg, cutoff = cutoff, dropDP=True)\n",
    "\n",
    "# Create an SVM classifier\n",
    "clf = svm.SVC(verbose=False)\n",
    "\n",
    "# Train algorithm\n",
    "clf.fit(X_train, Y_train)\n",
    "\n",
    "# Make predictions on the training data\n",
    "preds1 = clf.predict(X_train)\n",
    "\n",
    "# Make predictions with the testing data.\n",
    "# This is what is used for validation\n",
    "preds = clf.predict(X_test)"
   ]
  },
  {
   "cell_type": "code",
   "execution_count": 4,
   "metadata": {},
   "outputs": [],
   "source": [
    "# Calculate confusion matrix\n",
    "cf = confusion_matrix(Y_test, preds)"
   ]
  },
  {
   "cell_type": "code",
   "execution_count": 5,
   "metadata": {},
   "outputs": [
    {
     "data": {
      "image/png": "[encoded data removed]",
      "text/plain": [
       "<Figure size 576x432 with 1 Axes>"
      ]
     },
     "metadata": {
      "needs_background": "light"
     },
     "output_type": "display_data"
    }
   ],
   "source": [
    "g.plotConfusion(cf, ['Non-binder', 'Binder'])\n",
    "plt.savefig(\"Plots/SVM_test_H1N1_EGG.pdf\")"
   ]
  },
  {
   "cell_type": "code",
   "execution_count": null,
   "metadata": {},
   "outputs": [],
   "source": []
  }
 ],
 "metadata": {
  "kernelspec": {
   "display_name": "Python 3",
   "language": "python",
   "name": "python3"
  },
  "language_info": {
   "codemirror_mode": {
    "name": "ipython",
    "version": 3
   },
   "file_extension": ".py",
   "mimetype": "text/x-python",
   "name": "python",
   "nbconvert_exporter": "python",
   "pygments_lexer": "ipython3",
   "version": "3.7.10"
  }
 },
 "nbformat": 4,
 "nbformat_minor": 2
}
