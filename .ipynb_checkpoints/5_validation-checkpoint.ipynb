{
 "cells": [
  {
   "cell_type": "code",
   "execution_count": 1,
   "id": "a1a8ac9e",
   "metadata": {},
   "outputs": [],
   "source": [
    "import pandas as pd\n",
    "import matplotlib.cm as cm\n",
    "import matplotlib.pyplot as plt\n",
    "import seaborn as sns\n",
    "import numpy as np"
   ]
  },
  {
   "cell_type": "code",
   "execution_count": 2,
   "id": "4eb05f8a",
   "metadata": {},
   "outputs": [
    {
     "name": "stdout",
     "output_type": "stream",
     "text": [
      "['#1f77b4', '#ff7f0e', '#2ca02c', '#d62728', '#9467bd', '#8c564b', '#e377c2', '#7f7f7f', '#bcbd22', '#17becf']\n"
     ]
    }
   ],
   "source": [
    "print(plt.rcParams['axes.prop_cycle'].by_key()['color'])"
   ]
  },
  {
   "cell_type": "code",
   "execution_count": 3,
   "id": "b8f17c61",
   "metadata": {},
   "outputs": [],
   "source": [
    "color_dict = dict({'Binder': '#2ca02c',\n",
    "                   'Non-binder': '#9467bd'})"
   ]
  },
  {
   "cell_type": "code",
   "execution_count": 4,
   "id": "3dd85ade",
   "metadata": {},
   "outputs": [],
   "source": [
    "df = pd.read_csv(\"Results/MDCK_SVM_data.csv\")\n",
    "df = df[df.Status != 'Others']\n",
    "df = df.rename({'Valency': 'mucin mimetic valency', 'PolSpace': 'mucin mimetic density'}, axis=1)\n",
    "df_23 = df[df.GlycType == '2-3 SiaLac']\n",
    "df_26 = df[df.GlycType == '2-6 SiaLac']"
   ]
  },
  {
   "cell_type": "code",
   "execution_count": 5,
   "id": "07674561",
   "metadata": {},
   "outputs": [],
   "source": [
    "df2 = pd.read_csv(\"Results/H1N1_EGG_all.csv\")\n",
    "df2 = df2.rename({'Valency': 'mucin mimetic valency', 'PolSpace': 'mucin mimetic density'}, axis=1)\n",
    "df2_23 = df2[df2.GlycType == '2-3 SiaLac']\n",
    "df2_26 = df2[df2.GlycType == '2-6 SiaLac']"
   ]
  },
  {
   "cell_type": "code",
   "execution_count": 6,
   "id": "cb61a13f",
   "metadata": {},
   "outputs": [],
   "source": [
    "df3 = pd.read_csv(\"Results/H1N1_MDCK_all.csv\")\n",
    "df3 = df3.rename({'Valency': 'mucin mimetic valency', 'PolSpace': 'mucin mimetic density'}, axis=1)\n",
    "df3_23 = df3[df3.GlycType == '2-3 SiaLac']\n",
    "df3_26 = df3[df3.GlycType == '2-6 SiaLac']"
   ]
  },
  {
   "cell_type": "code",
   "execution_count": 7,
   "id": "40cce2d8",
   "metadata": {},
   "outputs": [],
   "source": [
    "df4 = pd.read_csv(\"Results/H3N2_EGG_all.csv\")\n",
    "df4 = df4.rename({'Valency': 'mucin mimetic valency', 'PolSpace': 'mucin mimetic density'}, axis=1)\n",
    "df4_23 = df4[df4.GlycType == '2-3 SiaLac']\n",
    "df4_26 = df4[df4.GlycType == '2-6 SiaLac']"
   ]
  },
  {
   "cell_type": "code",
   "execution_count": 8,
   "id": "4755261d",
   "metadata": {},
   "outputs": [],
   "source": [
    "def getRegion(df, den1, den2, val1, val2):\n",
    "    temp = df[((df['mucin mimetic density'] >= den1) & (df['mucin mimetic density'] < den2))]\n",
    "    temp2 = temp[((temp['mucin mimetic valency'] > val1) & (temp['mucin mimetic valency'] < val2))]\n",
    "    return temp2"
   ]
  },
  {
   "cell_type": "code",
   "execution_count": 9,
   "id": "da7eb80e",
   "metadata": {},
   "outputs": [],
   "source": [
    "def getCounts(region, wh):\n",
    "    if wh == 'Exp':\n",
    "        cond = 'Experiment'\n",
    "        yes = 'Binder'\n",
    "        no = 'Non-binder'\n",
    "    elif wh == 'Pred':\n",
    "        cond = 'Status'\n",
    "        yes = 'Conserved'\n",
    "        no = 'Gained in MDCK'\n",
    "        \n",
    "    counts = pd.value_counts(region[cond])\n",
    "    try:\n",
    "        yesNum = counts.loc[yes]\n",
    "    except:\n",
    "        yesNum = 0\n",
    "    try:\n",
    "        noNum = counts.loc[no]\n",
    "    except:\n",
    "        noNum = 0\n",
    "    tot = yesNum + noNum\n",
    "    if tot:\n",
    "        perc_nb = 100.0 * (yesNum/tot)\n",
    "    else:\n",
    "        perc_nb = np.nan\n",
    "    return perc_nb"
   ]
  },
  {
   "cell_type": "code",
   "execution_count": 10,
   "id": "e63bffd4",
   "metadata": {},
   "outputs": [],
   "source": [
    "def getTot(region, wh):\n",
    "    if wh == 'Exp':\n",
    "        cond = 'Experiment'\n",
    "        yes = 'Binder'\n",
    "        no = 'Non-binder'\n",
    "    elif wh == 'Pred':\n",
    "        cond = 'Status'\n",
    "        yes = 'Conserved'\n",
    "        no = 'Gained in MDCK'\n",
    "        \n",
    "    counts = pd.value_counts(region[cond])\n",
    "    try:\n",
    "        yes = counts[yes]\n",
    "    except:\n",
    "        yes = 0\n",
    "    try:\n",
    "        no = counts[no]\n",
    "    except:\n",
    "        no = 0\n",
    "    \n",
    "    return yes + no"
   ]
  },
  {
   "cell_type": "code",
   "execution_count": 11,
   "id": "b4b48611",
   "metadata": {},
   "outputs": [],
   "source": [
    "def get_matrix(df, wh):\n",
    "    arr = np.zeros((12, 5))\n",
    "    arr_tot = np.zeros((12, 5))\n",
    "    row = 0\n",
    "    column = 0\n",
    "\n",
    "    for x1 in np.arange(0.0,5.6, 0.5):\n",
    "        x2 = x1 + 0.5\n",
    "    \n",
    "        for y1 in np.arange(40,129,22):\n",
    "            y2 = y1 + 22\n",
    "        \n",
    "            l = getRegion(df, x1,x2,y1,y2)\n",
    "            perc_nb = getCounts(l, wh)\n",
    "            total = getTot(l, wh)\n",
    "\n",
    "            arr[row][column] = perc_nb\n",
    "            arr_tot[row][column] = total\n",
    "            \n",
    "            column += 1\n",
    "        \n",
    "        column = 0\n",
    "        row += 1\n",
    "    \n",
    "    arr2 = arr.transpose()\n",
    "    arr3 = np.flip(arr2, axis=0)\n",
    "    \n",
    "    arr2_tot = arr_tot.transpose()\n",
    "    arr3_tot = np.flip(arr2_tot, axis=0)\n",
    "    return arr3, arr3_tot"
   ]
  },
  {
   "cell_type": "code",
   "execution_count": 12,
   "id": "e09db2f3",
   "metadata": {},
   "outputs": [],
   "source": [
    "l_egg_23, l_egg_23_tot = get_matrix(df2_23, 'Exp')\n",
    "l_egg_26, l_egg_26_tot = get_matrix(df2_26, 'Exp')\n",
    "l_mdck_23, l_mdck_23_tot = get_matrix(df_23, 'Pred')\n",
    "l_mdck_26, l_mdck_26_tot = get_matrix(df_26, 'Pred')"
   ]
  },
  {
   "cell_type": "code",
   "execution_count": 13,
   "id": "da065ccb",
   "metadata": {},
   "outputs": [],
   "source": [
    "np.savetxt(\"Results/egg_23_exp.txt\", l_egg_23, fmt='%.2f')\n",
    "np.savetxt(\"Results/egg_26_exp.txt\", l_egg_26, fmt='%.2f')\n",
    "np.savetxt(\"Results/MDCK_23_pred.txt\", l_mdck_23, fmt='%.2f')\n",
    "np.savetxt(\"Results/MDCK_26_pred.txt\", l_mdck_26, fmt='%.2f')"
   ]
  },
  {
   "cell_type": "code",
   "execution_count": 14,
   "id": "aac70829",
   "metadata": {},
   "outputs": [],
   "source": [
    "np.savetxt(\"Results/egg_23_total.txt\", l_egg_23_tot, fmt='%.2f')\n",
    "np.savetxt(\"Results/egg_26_total.txt\", l_egg_26_tot, fmt='%.2f')\n",
    "np.savetxt(\"Results/MDCK_23_total.txt\", l_mdck_23_tot, fmt='%.2f')\n",
    "np.savetxt(\"Results/MDCK_26_total.txt\", l_mdck_26_tot, fmt='%.2f')"
   ]
  },
  {
   "cell_type": "code",
   "execution_count": 15,
   "id": "f0a7b818",
   "metadata": {},
   "outputs": [],
   "source": [
    "def fixAxes(ax):\n",
    "    ax.set_xticks(np.arange(0,12,2))\n",
    "    ax.set_xticklabels(np.arange(0.25,5.6,1.0))\n",
    "    ax.xaxis.set_ticks_position('bottom')\n",
    "    ax.xaxis.set_tick_params(labelsize=16)\n",
    "    ax.yaxis.set_tick_params(labelsize=16)\n",
    "    #ax.set_yticklabels(np.arange(170,39,-20))\n",
    "    ax.set_yticklabels(np.arange(161,39,-22))"
   ]
  },
  {
   "cell_type": "code",
   "execution_count": 16,
   "id": "f5581425",
   "metadata": {},
   "outputs": [],
   "source": [
    "def plotIt(series, ax, startangle=0):\n",
    "    colors = [color_dict[x] for x in np.array(series.index)]\n",
    "    series.plot(kind='pie', colors=colors, startangle=startangle, legend=False, ax=ax, textprops={'fontsize': 14})\n",
    "    ax.set_xlabel('')\n",
    "    ax.set_ylabel('')"
   ]
  },
  {
   "cell_type": "code",
   "execution_count": 17,
   "id": "9fe694b5",
   "metadata": {},
   "outputs": [
    {
     "name": "stderr",
     "output_type": "stream",
     "text": [
      "/Users/chitrakgupta/anaconda3/lib/python3.7/site-packages/pandas/plotting/_matplotlib/tools.py:400: MatplotlibDeprecationWarning: \n",
      "The is_first_col function was deprecated in Matplotlib 3.4 and will be removed two minor releases later. Use ax.get_subplotspec().is_first_col() instead.\n",
      "  if ax.is_first_col():\n",
      "/Users/chitrakgupta/anaconda3/lib/python3.7/site-packages/pandas/plotting/_matplotlib/tools.py:400: MatplotlibDeprecationWarning: \n",
      "The is_first_col function was deprecated in Matplotlib 3.4 and will be removed two minor releases later. Use ax.get_subplotspec().is_first_col() instead.\n",
      "  if ax.is_first_col():\n",
      "/Users/chitrakgupta/anaconda3/lib/python3.7/site-packages/pandas/plotting/_matplotlib/tools.py:400: MatplotlibDeprecationWarning: \n",
      "The is_first_col function was deprecated in Matplotlib 3.4 and will be removed two minor releases later. Use ax.get_subplotspec().is_first_col() instead.\n",
      "  if ax.is_first_col():\n",
      "/Users/chitrakgupta/anaconda3/lib/python3.7/site-packages/pandas/plotting/_matplotlib/tools.py:400: MatplotlibDeprecationWarning: \n",
      "The is_first_col function was deprecated in Matplotlib 3.4 and will be removed two minor releases later. Use ax.get_subplotspec().is_first_col() instead.\n",
      "  if ax.is_first_col():\n",
      "/Users/chitrakgupta/anaconda3/lib/python3.7/site-packages/pandas/plotting/_matplotlib/tools.py:400: MatplotlibDeprecationWarning: \n",
      "The is_first_col function was deprecated in Matplotlib 3.4 and will be removed two minor releases later. Use ax.get_subplotspec().is_first_col() instead.\n",
      "  if ax.is_first_col():\n",
      "/Users/chitrakgupta/anaconda3/lib/python3.7/site-packages/pandas/plotting/_matplotlib/tools.py:400: MatplotlibDeprecationWarning: \n",
      "The is_first_col function was deprecated in Matplotlib 3.4 and will be removed two minor releases later. Use ax.get_subplotspec().is_first_col() instead.\n",
      "  if ax.is_first_col():\n"
     ]
    },
    {
     "data": {
      "image/png": "[encoded data removed]",
      "text/plain": [
       "<Figure size 1152x1296 with 6 Axes>"
      ]
     },
     "metadata": {},
     "output_type": "display_data"
    }
   ],
   "source": [
    "fig, ax = plt.subplots(3,2, figsize=(16,18))\n",
    "plotIt(pd.value_counts(df3_23.Experiment), ax[0][0] )\n",
    "plotIt(pd.value_counts(df3_26.Experiment), ax[0][1])\n",
    "plotIt(pd.value_counts(df4_23.Experiment), ax[1][0])\n",
    "plotIt(pd.value_counts(df4_26.Experiment), ax[1][1])\n",
    "plotIt(pd.value_counts(df2_23.Experiment), ax[2][0])\n",
    "plotIt(pd.value_counts(df2_26.Experiment)[['Binder', 'Non-binder']], ax[2][1])\n",
    "\n",
    "plt.savefig(\"Plots/Fraction_of_binders.pdf\")"
   ]
  },
  {
   "cell_type": "code",
   "execution_count": null,
   "id": "dc5e31f6",
   "metadata": {},
   "outputs": [],
   "source": []
  }
 ],
 "metadata": {
  "kernelspec": {
   "display_name": "Python 3",
   "language": "python",
   "name": "python3"
  },
  "language_info": {
   "codemirror_mode": {
    "name": "ipython",
    "version": 3
   },
   "file_extension": ".py",
   "mimetype": "text/x-python",
   "name": "python",
   "nbconvert_exporter": "python",
   "pygments_lexer": "ipython3",
   "version": "3.7.10"
  }
 },
 "nbformat": 4,
 "nbformat_minor": 5
}
