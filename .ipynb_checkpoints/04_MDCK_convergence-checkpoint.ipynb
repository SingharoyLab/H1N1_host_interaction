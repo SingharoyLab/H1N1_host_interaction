{
 "cells": [
  {
   "cell_type": "code",
   "execution_count": 1,
   "metadata": {},
   "outputs": [],
   "source": [
    "from glycan import glycan\n",
    "import numpy as np\n",
    "import pandas as pd\n",
    "\n",
    "from sklearn import svm\n",
    "from sklearn.metrics import roc_auc_score, accuracy_score, precision_score, recall_score, f1_score\n",
    "from sklearn.metrics import confusion_matrix\n",
    "\n",
    "import matplotlib.pyplot as plt"
   ]
  },
  {
   "cell_type": "code",
   "execution_count": 2,
   "metadata": {},
   "outputs": [
    {
     "name": "stdout",
     "output_type": "stream",
     "text": [
      "For now, we are skipping the header\n",
      "For now, we are skipping the header\n",
      "For now, we are skipping the header\n",
      "For now, we are skipping the header\n"
     ]
    },
    {
     "name": "stderr",
     "output_type": "stream",
     "text": [
      "/Users/chitrakgupta/Desktop/ASU_projects/GlycanModification/Data_Mar2020/find_examples/H1N1_host_interaction/glycan/_read.py:162: SettingWithCopyWarning:\n",
      "\n",
      "\n",
      "A value is trying to be set on a copy of a slice from a DataFrame.\n",
      "Try using .loc[row_indexer,col_indexer] = value instead\n",
      "\n",
      "See the caveats in the documentation: https://pandas.pydata.org/pandas-docs/stable/user_guide/indexing.html#returning-a-view-versus-a-copy\n",
      "\n"
     ]
    }
   ],
   "source": [
    "# Create an instance of the glycan class\n",
    "g2 = glycan()\n",
    "\n",
    "# Read data (CSV files) as pandas data frames. Each file is a new line.\n",
    "# Note that each file can have multiple experiments, called \"tabs\" here.\n",
    "# You can specify how many tabs you want to read using the totalTabs variable.\n",
    "numberedExcel2 = g2.getData('../../MDCK_sheet2.csv', totalTabs=1)\n",
    "numberedExcel3 = g2.getData('../../MDCK_sheet3.csv', totalTabs=1)\n",
    "numberedExcel4 = g2.getData('../../MDCK_sheet4.csv', totalTabs=2)\n",
    "\n",
    "# Now combine all the data frames\n",
    "numberedExcel_temp = pd.concat([numberedExcel2, numberedExcel3, numberedExcel4], axis=0)\n",
    "mdck = numberedExcel_temp\n",
    "\n",
    "mdck.reset_index(drop=True, inplace=True)\n",
    "# Scaling the mean viral fluorescence by glycan density.\n",
    "mdck['MVF'] = mdck.MVF/mdck.GlycDen"
   ]
  },
  {
   "cell_type": "code",
   "execution_count": 3,
   "metadata": {},
   "outputs": [],
   "source": [
    "# Function to get accuracy, precision, recall, and f-1 score for a given number of iterations\n",
    "def getAcc(MI):\n",
    "    X_train_mdck, Y_train_mdck, X_test_mdck, Y_test_mdck, bindData_mdck = g2.getTrainTest(mdck, cutoff = 0.05, dropDP=True, test_size=0.33)\n",
    "    #clf_mdck = svm.SVC(max_iter=MI, verbose=True)\n",
    "    clf_mdck = svm.SVC(max_iter=MI, verbose=False)\n",
    "    clf_mdck.fit(X_train_mdck, Y_train_mdck)\n",
    "    preds_train_mdck = clf_mdck.predict(X_train_mdck)\n",
    "    preds_test_mdck = clf_mdck.predict(X_test_mdck)\n",
    "    acc = accuracy_score(Y_test_mdck,preds_test_mdck)\n",
    "    prec = precision_score(Y_test_mdck, preds_test_mdck)\n",
    "    rec = recall_score(Y_test_mdck, preds_test_mdck)\n",
    "    f1 = f1_score(Y_test_mdck, preds_test_mdck)\n",
    "    return acc, prec, rec, f1"
   ]
  },
  {
   "cell_type": "code",
   "execution_count": 4,
   "metadata": {
    "scrolled": true
   },
   "outputs": [
    {
     "name": "stderr",
     "output_type": "stream",
     "text": [
      "/Users/chitrakgupta/Desktop/ASU_projects/GlycanModification/Data_Mar2020/find_examples/H1N1_host_interaction/glycan/_prepare.py:9: SettingWithCopyWarning:\n",
      "\n",
      "\n",
      "A value is trying to be set on a copy of a slice from a DataFrame.\n",
      "Try using .loc[row_indexer,col_indexer] = value instead\n",
      "\n",
      "See the caveats in the documentation: https://pandas.pydata.org/pandas-docs/stable/user_guide/indexing.html#returning-a-view-versus-a-copy\n",
      "\n",
      "/Users/chitrakgupta/anaconda3/lib/python3.7/site-packages/sklearn/svm/_base.py:231: ConvergenceWarning:\n",
      "\n",
      "Solver terminated early (max_iter=20).  Consider pre-processing your data with StandardScaler or MinMaxScaler.\n",
      "\n",
      "/Users/chitrakgupta/Desktop/ASU_projects/GlycanModification/Data_Mar2020/find_examples/H1N1_host_interaction/glycan/_prepare.py:9: SettingWithCopyWarning:\n",
      "\n",
      "\n",
      "A value is trying to be set on a copy of a slice from a DataFrame.\n",
      "Try using .loc[row_indexer,col_indexer] = value instead\n",
      "\n",
      "See the caveats in the documentation: https://pandas.pydata.org/pandas-docs/stable/user_guide/indexing.html#returning-a-view-versus-a-copy\n",
      "\n",
      "/Users/chitrakgupta/anaconda3/lib/python3.7/site-packages/sklearn/svm/_base.py:231: ConvergenceWarning:\n",
      "\n",
      "Solver terminated early (max_iter=40).  Consider pre-processing your data with StandardScaler or MinMaxScaler.\n",
      "\n",
      "/Users/chitrakgupta/Desktop/ASU_projects/GlycanModification/Data_Mar2020/find_examples/H1N1_host_interaction/glycan/_prepare.py:9: SettingWithCopyWarning:\n",
      "\n",
      "\n",
      "A value is trying to be set on a copy of a slice from a DataFrame.\n",
      "Try using .loc[row_indexer,col_indexer] = value instead\n",
      "\n",
      "See the caveats in the documentation: https://pandas.pydata.org/pandas-docs/stable/user_guide/indexing.html#returning-a-view-versus-a-copy\n",
      "\n",
      "/Users/chitrakgupta/anaconda3/lib/python3.7/site-packages/sklearn/svm/_base.py:231: ConvergenceWarning:\n",
      "\n",
      "Solver terminated early (max_iter=60).  Consider pre-processing your data with StandardScaler or MinMaxScaler.\n",
      "\n",
      "/Users/chitrakgupta/Desktop/ASU_projects/GlycanModification/Data_Mar2020/find_examples/H1N1_host_interaction/glycan/_prepare.py:9: SettingWithCopyWarning:\n",
      "\n",
      "\n",
      "A value is trying to be set on a copy of a slice from a DataFrame.\n",
      "Try using .loc[row_indexer,col_indexer] = value instead\n",
      "\n",
      "See the caveats in the documentation: https://pandas.pydata.org/pandas-docs/stable/user_guide/indexing.html#returning-a-view-versus-a-copy\n",
      "\n",
      "/Users/chitrakgupta/anaconda3/lib/python3.7/site-packages/sklearn/svm/_base.py:231: ConvergenceWarning:\n",
      "\n",
      "Solver terminated early (max_iter=80).  Consider pre-processing your data with StandardScaler or MinMaxScaler.\n",
      "\n",
      "/Users/chitrakgupta/Desktop/ASU_projects/GlycanModification/Data_Mar2020/find_examples/H1N1_host_interaction/glycan/_prepare.py:9: SettingWithCopyWarning:\n",
      "\n",
      "\n",
      "A value is trying to be set on a copy of a slice from a DataFrame.\n",
      "Try using .loc[row_indexer,col_indexer] = value instead\n",
      "\n",
      "See the caveats in the documentation: https://pandas.pydata.org/pandas-docs/stable/user_guide/indexing.html#returning-a-view-versus-a-copy\n",
      "\n",
      "/Users/chitrakgupta/anaconda3/lib/python3.7/site-packages/sklearn/svm/_base.py:231: ConvergenceWarning:\n",
      "\n",
      "Solver terminated early (max_iter=100).  Consider pre-processing your data with StandardScaler or MinMaxScaler.\n",
      "\n",
      "/Users/chitrakgupta/Desktop/ASU_projects/GlycanModification/Data_Mar2020/find_examples/H1N1_host_interaction/glycan/_prepare.py:9: SettingWithCopyWarning:\n",
      "\n",
      "\n",
      "A value is trying to be set on a copy of a slice from a DataFrame.\n",
      "Try using .loc[row_indexer,col_indexer] = value instead\n",
      "\n",
      "See the caveats in the documentation: https://pandas.pydata.org/pandas-docs/stable/user_guide/indexing.html#returning-a-view-versus-a-copy\n",
      "\n",
      "/Users/chitrakgupta/anaconda3/lib/python3.7/site-packages/sklearn/svm/_base.py:231: ConvergenceWarning:\n",
      "\n",
      "Solver terminated early (max_iter=120).  Consider pre-processing your data with StandardScaler or MinMaxScaler.\n",
      "\n",
      "/Users/chitrakgupta/Desktop/ASU_projects/GlycanModification/Data_Mar2020/find_examples/H1N1_host_interaction/glycan/_prepare.py:9: SettingWithCopyWarning:\n",
      "\n",
      "\n",
      "A value is trying to be set on a copy of a slice from a DataFrame.\n",
      "Try using .loc[row_indexer,col_indexer] = value instead\n",
      "\n",
      "See the caveats in the documentation: https://pandas.pydata.org/pandas-docs/stable/user_guide/indexing.html#returning-a-view-versus-a-copy\n",
      "\n",
      "/Users/chitrakgupta/anaconda3/lib/python3.7/site-packages/sklearn/svm/_base.py:231: ConvergenceWarning:\n",
      "\n",
      "Solver terminated early (max_iter=140).  Consider pre-processing your data with StandardScaler or MinMaxScaler.\n",
      "\n",
      "/Users/chitrakgupta/Desktop/ASU_projects/GlycanModification/Data_Mar2020/find_examples/H1N1_host_interaction/glycan/_prepare.py:9: SettingWithCopyWarning:\n",
      "\n",
      "\n",
      "A value is trying to be set on a copy of a slice from a DataFrame.\n",
      "Try using .loc[row_indexer,col_indexer] = value instead\n",
      "\n",
      "See the caveats in the documentation: https://pandas.pydata.org/pandas-docs/stable/user_guide/indexing.html#returning-a-view-versus-a-copy\n",
      "\n",
      "/Users/chitrakgupta/anaconda3/lib/python3.7/site-packages/sklearn/svm/_base.py:231: ConvergenceWarning:\n",
      "\n",
      "Solver terminated early (max_iter=160).  Consider pre-processing your data with StandardScaler or MinMaxScaler.\n",
      "\n",
      "/Users/chitrakgupta/Desktop/ASU_projects/GlycanModification/Data_Mar2020/find_examples/H1N1_host_interaction/glycan/_prepare.py:9: SettingWithCopyWarning:\n",
      "\n",
      "\n",
      "A value is trying to be set on a copy of a slice from a DataFrame.\n",
      "Try using .loc[row_indexer,col_indexer] = value instead\n",
      "\n",
      "See the caveats in the documentation: https://pandas.pydata.org/pandas-docs/stable/user_guide/indexing.html#returning-a-view-versus-a-copy\n",
      "\n",
      "/Users/chitrakgupta/anaconda3/lib/python3.7/site-packages/sklearn/svm/_base.py:231: ConvergenceWarning:\n",
      "\n",
      "Solver terminated early (max_iter=180).  Consider pre-processing your data with StandardScaler or MinMaxScaler.\n",
      "\n",
      "/Users/chitrakgupta/Desktop/ASU_projects/GlycanModification/Data_Mar2020/find_examples/H1N1_host_interaction/glycan/_prepare.py:9: SettingWithCopyWarning:\n",
      "\n",
      "\n",
      "A value is trying to be set on a copy of a slice from a DataFrame.\n",
      "Try using .loc[row_indexer,col_indexer] = value instead\n",
      "\n",
      "See the caveats in the documentation: https://pandas.pydata.org/pandas-docs/stable/user_guide/indexing.html#returning-a-view-versus-a-copy\n",
      "\n",
      "/Users/chitrakgupta/anaconda3/lib/python3.7/site-packages/sklearn/svm/_base.py:231: ConvergenceWarning:\n",
      "\n",
      "Solver terminated early (max_iter=200).  Consider pre-processing your data with StandardScaler or MinMaxScaler.\n",
      "\n",
      "/Users/chitrakgupta/Desktop/ASU_projects/GlycanModification/Data_Mar2020/find_examples/H1N1_host_interaction/glycan/_prepare.py:9: SettingWithCopyWarning:\n",
      "\n",
      "\n",
      "A value is trying to be set on a copy of a slice from a DataFrame.\n",
      "Try using .loc[row_indexer,col_indexer] = value instead\n",
      "\n",
      "See the caveats in the documentation: https://pandas.pydata.org/pandas-docs/stable/user_guide/indexing.html#returning-a-view-versus-a-copy\n",
      "\n",
      "/Users/chitrakgupta/anaconda3/lib/python3.7/site-packages/sklearn/svm/_base.py:231: ConvergenceWarning:\n",
      "\n",
      "Solver terminated early (max_iter=220).  Consider pre-processing your data with StandardScaler or MinMaxScaler.\n",
      "\n"
     ]
    }
   ],
   "source": [
    "# Vary number of iterations from 20 through 223, in steps of 20\n",
    "\n",
    "accList = np.zeros(11)\n",
    "precList = np.zeros(11)\n",
    "recList = np.zeros(11)\n",
    "f1List = np.zeros(11)\n",
    "\n",
    "count = 0\n",
    "for MI in range(20,223,20):\n",
    "    a, b, c, d = getAcc(MI)\n",
    "    accList[count] = a\n",
    "    precList[count] = b\n",
    "    recList[count] = c\n",
    "    f1List[count] = d\n",
    "    count += 1"
   ]
  },
  {
   "cell_type": "code",
   "execution_count": 5,
   "metadata": {},
   "outputs": [
    {
     "data": {
      "text/plain": [
       "([<matplotlib.axis.XTick at 0x1a26c38910>,\n",
       "  <matplotlib.axis.XTick at 0x1a26c38090>,\n",
       "  <matplotlib.axis.XTick at 0x1a26babf90>,\n",
       "  <matplotlib.axis.XTick at 0x1a2733e6d0>,\n",
       "  <matplotlib.axis.XTick at 0x1a2733e5d0>,\n",
       "  <matplotlib.axis.XTick at 0x1a27346250>,\n",
       "  <matplotlib.axis.XTick at 0x1a273468d0>,\n",
       "  <matplotlib.axis.XTick at 0x1a273467d0>,\n",
       "  <matplotlib.axis.XTick at 0x1a27346050>,\n",
       "  <matplotlib.axis.XTick at 0x1a2734b450>,\n",
       "  <matplotlib.axis.XTick at 0x1a2734ba50>],\n",
       " <a list of 11 Text xticklabel objects>)"
      ]
     },
     "execution_count": 5,
     "metadata": {},
     "output_type": "execute_result"
    },
    {
     "data": {
      "image/png": "[encoded data removed]",
      "text/plain": [
       "<Figure size 576x432 with 1 Axes>"
      ]
     },
     "metadata": {
      "needs_background": "light"
     },
     "output_type": "display_data"
    }
   ],
   "source": [
    "# Plot the 4 performance metrices wrt number of iterations\n",
    "plt.figure(figsize=(8,6))\n",
    "xVals = np.arange(20,223,20)\n",
    "plt.scatter(xVals, accList, label='Accuracy')\n",
    "plt.scatter(xVals, precList, label='Precision')\n",
    "plt.scatter(xVals, recList, label='Recall')\n",
    "plt.scatter(xVals, f1List, label='F1 score')\n",
    "plt.plot(xVals, accList)\n",
    "plt.plot(xVals, precList)\n",
    "plt.plot(xVals, recList)\n",
    "plt.plot(xVals, f1List)\n",
    "plt.xticks(xVals)"
   ]
  },
  {
   "cell_type": "code",
   "execution_count": 6,
   "metadata": {},
   "outputs": [],
   "source": [
    "# Save the data file if needed\n",
    "acc = np.column_stack((xVals, accList, precList, recList, f1List))\n",
    "np.savetxt(\"mdck_all.txt\", acc)"
   ]
  },
  {
   "cell_type": "code",
   "execution_count": null,
   "metadata": {},
   "outputs": [],
   "source": []
  }
 ],
 "metadata": {
  "kernelspec": {
   "display_name": "Python 3",
   "language": "python",
   "name": "python3"
  },
  "language_info": {
   "codemirror_mode": {
    "name": "ipython",
    "version": 3
   },
   "file_extension": ".py",
   "mimetype": "text/x-python",
   "name": "python",
   "nbconvert_exporter": "python",
   "pygments_lexer": "ipython3",
   "version": "3.7.10"
  }
 },
 "nbformat": 4,
 "nbformat_minor": 4
}
