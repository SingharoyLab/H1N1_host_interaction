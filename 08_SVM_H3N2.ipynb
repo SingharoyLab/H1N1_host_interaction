{
 "cells": [
  {
   "cell_type": "code",
   "execution_count": 1,
   "metadata": {},
   "outputs": [],
   "source": [
    "from glycan import glycan\n",
    "import numpy as np\n",
    "import pandas as pd\n",
    "\n",
    "from sklearn import svm\n",
    "from sklearn.metrics import roc_auc_score, accuracy_score, precision_score, recall_score, f1_score\n",
    "from sklearn.metrics import confusion_matrix\n",
    "\n",
    "import matplotlib.pyplot as plt"
   ]
  },
  {
   "cell_type": "code",
   "execution_count": 2,
   "metadata": {},
   "outputs": [],
   "source": [
    "def read_H3N2_data():\n",
    "    # Create an instance of the glycan class\n",
    "    g = glycan()\n",
    "\n",
    "    # Read data (CSV files) as pandas data frames. Each file is a new line.\n",
    "    # Note that each file can have multiple experiments, called \"tabs\" here.\n",
    "    # You can specify how many tabs you want to read using the totalTabs variable.\n",
    "\n",
    "    # The \"wh\" parameter simply controls the format of the CSV file.\n",
    "    # The 'old' format is slightly different from the 'new' format, but has the same information\n",
    "    numberedExcel1, b = g.getData('Data/H3N2_EGG/H3N2_sheet1.csv', totalTabs=2, startExp=1)\n",
    "    numberedExcel2, b = g.getData('Data/H3N2_EGG/H3N2_sheet2.csv', totalTabs=2, startExp=(b+1))\n",
    "    numberedExcel3, b = g.getData('Data/H3N2_EGG/H3N2_sheet3.csv', totalTabs=2, startExp=(b+1))\n",
    "\n",
    "    # Now combine all the data frames\n",
    "    h3n2 = pd.concat([numberedExcel1, numberedExcel2, numberedExcel3], axis=0)\n",
    "    h3n2.reset_index(drop=True, inplace=True)\n",
    "\n",
    "    # Scaling the mean viral fluorescence by glycan density.\n",
    "    h3n2['MVF'] = h3n2.MVF/h3n2.GlycDen\n",
    "    \n",
    "    return h3n2"
   ]
  },
  {
   "cell_type": "code",
   "execution_count": 3,
   "metadata": {},
   "outputs": [
    {
     "name": "stdout",
     "output_type": "stream",
     "text": [
      "For now, we are skipping the header\n",
      "For now, we are skipping the header\n",
      "For now, we are skipping the header\n",
      "For now, we are skipping the header\n",
      "For now, we are skipping the header\n",
      "For now, we are skipping the header\n"
     ]
    },
    {
     "name": "stderr",
     "output_type": "stream",
     "text": [
      "/Users/chitrakgupta/Desktop/ASU_projects/GlycanModification/Data_Mar2020/find_examples/H1N1_host_interaction/glycan/_read.py:162: SettingWithCopyWarning:\n",
      "\n",
      "\n",
      "A value is trying to be set on a copy of a slice from a DataFrame.\n",
      "Try using .loc[row_indexer,col_indexer] = value instead\n",
      "\n",
      "See the caveats in the documentation: https://pandas.pydata.org/pandas-docs/stable/user_guide/indexing.html#returning-a-view-versus-a-copy\n",
      "\n",
      "/Users/chitrakgupta/Desktop/ASU_projects/GlycanModification/Data_Mar2020/find_examples/H1N1_host_interaction/glycan/_read.py:162: SettingWithCopyWarning:\n",
      "\n",
      "\n",
      "A value is trying to be set on a copy of a slice from a DataFrame.\n",
      "Try using .loc[row_indexer,col_indexer] = value instead\n",
      "\n",
      "See the caveats in the documentation: https://pandas.pydata.org/pandas-docs/stable/user_guide/indexing.html#returning-a-view-versus-a-copy\n",
      "\n",
      "/Users/chitrakgupta/Desktop/ASU_projects/GlycanModification/Data_Mar2020/find_examples/H1N1_host_interaction/glycan/_prepare.py:9: SettingWithCopyWarning:\n",
      "\n",
      "\n",
      "A value is trying to be set on a copy of a slice from a DataFrame.\n",
      "Try using .loc[row_indexer,col_indexer] = value instead\n",
      "\n",
      "See the caveats in the documentation: https://pandas.pydata.org/pandas-docs/stable/user_guide/indexing.html#returning-a-view-versus-a-copy\n",
      "\n",
      "/Users/chitrakgupta/Desktop/ASU_projects/GlycanModification/Data_Mar2020/find_examples/H1N1_host_interaction/glycan/_prepare.py:9: SettingWithCopyWarning:\n",
      "\n",
      "\n",
      "A value is trying to be set on a copy of a slice from a DataFrame.\n",
      "Try using .loc[row_indexer,col_indexer] = value instead\n",
      "\n",
      "See the caveats in the documentation: https://pandas.pydata.org/pandas-docs/stable/user_guide/indexing.html#returning-a-view-versus-a-copy\n",
      "\n",
      "/Users/chitrakgupta/Desktop/ASU_projects/GlycanModification/Data_Mar2020/find_examples/H1N1_host_interaction/glycan/_prepare.py:9: SettingWithCopyWarning:\n",
      "\n",
      "\n",
      "A value is trying to be set on a copy of a slice from a DataFrame.\n",
      "Try using .loc[row_indexer,col_indexer] = value instead\n",
      "\n",
      "See the caveats in the documentation: https://pandas.pydata.org/pandas-docs/stable/user_guide/indexing.html#returning-a-view-versus-a-copy\n",
      "\n",
      "/Users/chitrakgupta/Desktop/ASU_projects/GlycanModification/Data_Mar2020/find_examples/H1N1_host_interaction/glycan/_prepare.py:9: SettingWithCopyWarning:\n",
      "\n",
      "\n",
      "A value is trying to be set on a copy of a slice from a DataFrame.\n",
      "Try using .loc[row_indexer,col_indexer] = value instead\n",
      "\n",
      "See the caveats in the documentation: https://pandas.pydata.org/pandas-docs/stable/user_guide/indexing.html#returning-a-view-versus-a-copy\n",
      "\n",
      "/Users/chitrakgupta/Desktop/ASU_projects/GlycanModification/Data_Mar2020/find_examples/H1N1_host_interaction/glycan/_prepare.py:9: SettingWithCopyWarning:\n",
      "\n",
      "\n",
      "A value is trying to be set on a copy of a slice from a DataFrame.\n",
      "Try using .loc[row_indexer,col_indexer] = value instead\n",
      "\n",
      "See the caveats in the documentation: https://pandas.pydata.org/pandas-docs/stable/user_guide/indexing.html#returning-a-view-versus-a-copy\n",
      "\n",
      "/Users/chitrakgupta/Desktop/ASU_projects/GlycanModification/Data_Mar2020/find_examples/H1N1_host_interaction/glycan/_prepare.py:9: SettingWithCopyWarning:\n",
      "\n",
      "\n",
      "A value is trying to be set on a copy of a slice from a DataFrame.\n",
      "Try using .loc[row_indexer,col_indexer] = value instead\n",
      "\n",
      "See the caveats in the documentation: https://pandas.pydata.org/pandas-docs/stable/user_guide/indexing.html#returning-a-view-versus-a-copy\n",
      "\n"
     ]
    }
   ],
   "source": [
    "h3n2 = read_H3N2_data()\n",
    "\n",
    "# Cutoff for H3N2 is 0.15\n",
    "cutoff = 0.15\n",
    "\n",
    "g = glycan()\n",
    "# Randomly split data into training and testing.\n",
    "X_train, Y_train, X_test, Y_test, minMaxList = g.getTrainTest(h3n2, cutoff = cutoff, dropDP=True)\n",
    "\n",
    "# Create an SVM classifier\n",
    "clf = svm.SVC(verbose=False)\n",
    "\n",
    "# Train algorithm\n",
    "clf.fit(X_train, Y_train)\n",
    "\n",
    "# Make predictions on the training data\n",
    "preds1 = clf.predict(X_train)\n",
    "\n",
    "# Make predictions with the testing data.\n",
    "# This is what is used for validation\n",
    "preds = clf.predict(X_test)"
   ]
  },
  {
   "cell_type": "code",
   "execution_count": 4,
   "metadata": {},
   "outputs": [
    {
     "name": "stdout",
     "output_type": "stream",
     "text": [
      "\n",
      "\n",
      "\n",
      "\n",
      "Accuracy:  0.935\n",
      "Precision:  0.885\n",
      "Recall:  0.932\n",
      "F1 score:  0.908\n",
      "\n",
      "\n",
      "\n"
     ]
    }
   ],
   "source": [
    "print(\"\\n\\n\\n\")\n",
    "print(\"Accuracy: \", \"%.3f\"%accuracy_score(Y_test, preds))\n",
    "print(\"Precision: \", \"%.3f\"%precision_score(Y_test, preds))\n",
    "print(\"Recall: \", \"%.3f\"%recall_score(Y_test, preds))\n",
    "print(\"F1 score: \", \"%.3f\"%f1_score(Y_test, preds))\n",
    "print(\"\\n\\n\")"
   ]
  },
  {
   "cell_type": "code",
   "execution_count": 5,
   "metadata": {},
   "outputs": [],
   "source": [
    "# Calculate confusion matrix\n",
    "cf = confusion_matrix(Y_test, preds)"
   ]
  },
  {
   "cell_type": "code",
   "execution_count": 6,
   "metadata": {},
   "outputs": [
    {
     "data": {
      "image/png": "[encoded data removed]",
      "text/plain": [
       "<Figure size 576x432 with 1 Axes>"
      ]
     },
     "metadata": {
      "needs_background": "light"
     },
     "output_type": "display_data"
    }
   ],
   "source": [
    "g.plotConfusion(cf, ['Non-binder', 'Binder'])\n",
    "plt.savefig(\"Plots/SVM_test_H3N2.pdf\")"
   ]
  },
  {
   "cell_type": "code",
   "execution_count": null,
   "metadata": {},
   "outputs": [],
   "source": []
  }
 ],
 "metadata": {
  "kernelspec": {
   "display_name": "Python 3",
   "language": "python",
   "name": "python3"
  },
  "language_info": {
   "codemirror_mode": {
    "name": "ipython",
    "version": 3
   },
   "file_extension": ".py",
   "mimetype": "text/x-python",
   "name": "python",
   "nbconvert_exporter": "python",
   "pygments_lexer": "ipython3",
   "version": "3.7.10"
  }
 },
 "nbformat": 4,
 "nbformat_minor": 2
}
